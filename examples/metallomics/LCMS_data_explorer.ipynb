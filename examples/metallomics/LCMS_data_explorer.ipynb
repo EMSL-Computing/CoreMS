{
 "cells": [
  {
   "cell_type": "code",
   "execution_count": 4,
   "metadata": {},
   "outputs": [
    {
     "name": "stdout",
     "output_type": "stream",
     "text": [
      "c:\\Users\\boiteaur\\Desktop\\CoreMS_metallomics\\CoreMS\n"
     ]
    }
   ],
   "source": [
    "####Rene 5_7_2022\n",
    "\n",
    "#This script generates formula assignments from Thermo Raw data.\n",
    "\n",
    "# Import the os module\n",
    "import os\n",
    "import pandas as pd\n",
    "import numpy as np\n",
    "\n",
    "print(os.path.abspath(os.curdir))\n",
    "\n",
    "# Change the current working directory\n",
    "#os.chdir(os.path.dirname(os.getcwd()))\n",
    "#print(os.path.abspath(os.curdir))\n",
    "\n",
    "os.chdir('/Users/boiteaur/Desktop/CoreMS_metallomics/CoreMS')\n",
    "\n",
    "\n",
    "\n",
    "import warnings\n",
    "warnings.filterwarnings(\"ignore\")\n",
    "\n",
    "import sys\n",
    "sys.path.append(\"./\")\n",
    "\n",
    "from pathlib import Path\n",
    "\n",
    "import matplotlib.pyplot as plt\n",
    "# from PySide2.QtWidgets import QFileDialog, QApplication\n",
    "# from PySide2.QtCore import Qt\n",
    "\n",
    "from corems.mass_spectra.input import rawFileReader\n",
    "from corems.molecular_id.factory.classification import HeteroatomsClassification, Labels\n",
    "from corems.molecular_id.search.priorityAssignment import OxygenPriorityAssignment\n",
    "from corems.molecular_id.search.molecularFormulaSearch import SearchMolecularFormulas\n",
    "from corems.encapsulation.factory.parameters import MSParameters\n",
    "\n",
    "MSParameters.molecular_search.error_method = 'None'\n",
    "MSParameters.molecular_search.min_ppm_error = -2\n",
    "MSParameters.molecular_search.max_ppm_error = 2\n",
    "\n",
    "MSParameters.molecular_search.url_database = None\n",
    "MSParameters.molecular_search.min_dbe = 0\n",
    "MSParameters.molecular_search.max_dbe = 18\n",
    "\n",
    "MSParameters.molecular_search.usedAtoms['C'] = (1,50)\n",
    "MSParameters.molecular_search.usedAtoms['H'] = (4,100)\n",
    "MSParameters.molecular_search.usedAtoms['O'] = (1,20)\n",
    "MSParameters.molecular_search.usedAtoms['N'] = (0,4)\n",
    "MSParameters.molecular_search.usedAtoms['Fe'] = (0,1)\n",
    "\n",
    "MSParameters.molecular_search.isProtonated = True\n",
    "MSParameters.molecular_search.isRadical = False\n",
    "MSParameters.molecular_search.isAdduct = False\n",
    "\n",
    "MSParameters.molecular_search.score_method = \"prob_score\"\n",
    "MSParameters.molecular_search.output_score_method = \"prob_score\"\n",
    "\n",
    "\n",
    "###### Set file folder and THERMO RAW file name here:\n",
    "\n",
    "file_location = '/Users/boiteaur/Desktop/CoreMS_metallomics/CoreMS_Metallomics_Data/'\n",
    "file_name=\"MeOH_Frac_Lig_Fe_pos.raw\"\n",
    "\n",
    "\n",
    "\n",
    "#Set peak detection threshold method\n",
    "#MSParameters.mass_spectrum.threshold_method = 'relative_abundance'\n",
    "#MSParameters.mass_spectrum.relative_abundance_threshold = 0.01\n",
    "\n",
    "#MSParameters.mass_spectrum.threshold_method = 'auto'\n",
    "#MSParameters.mass_spectrum.s2n_threshold = 4\n",
    "\n",
    "MSParameters.mass_spectrum.threshold_method = 'signal_noise'\n",
    "MSParameters.mass_spectrum.max_picking_mz = 1000\n",
    "MSParameters.mass_spectrum.s2n_threshold = 3\n",
    "\n",
    "MSParameters.ms_peak.peak_min_prominence_percent = 0.02\n",
    "\n",
    "\n",
    "\n",
    "#Parser for thermo RAW files. \n",
    "parser = rawFileReader.ImportMassSpectraThermoMSFileReader(file_location+file_name)\n"
   ]
  },
  {
   "cell_type": "code",
   "execution_count": 18,
   "metadata": {},
   "outputs": [
    {
     "name": "stdout",
     "output_type": "stream",
     "text": [
      "'runworker'  28.99 ms\n"
     ]
    },
    {
     "name": "stderr",
     "output_type": "stream",
     "text": [
      "Loading molecular formula database: 153018it [00:14, 10838.98it/s]\n",
      "Started molecular formula search for class {\"N\": 4, \"O\": 20, \"Fe\": 1}, (de)protonated : 100%|██████████| 200/200 [00:03<00:00, 60.06it/s]\n"
     ]
    },
    {
     "name": "stdout",
     "output_type": "stream",
     "text": [
      "'run_molecular_formula'  17718.29 ms\n",
      "450 assigned peaks and 944 unassigned peaks, total  = 32.28 %, relative abundance = 25.39 %, RMS error (best candidate) (ppm) = 1.031\n"
     ]
    },
    {
     "data": {
      "image/png": "[encoded data removed]",
      "text/plain": [
       "<Figure size 432x288 with 1 Axes>"
      ]
     },
     "metadata": {
      "needs_background": "light"
     },
     "output_type": "display_data"
    },
    {
     "data": {
      "image/png": "[encoded data removed]",
      "text/plain": [
       "<Figure size 432x288 with 1 Axes>"
      ]
     },
     "metadata": {
      "needs_background": "light"
     },
     "output_type": "display_data"
    }
   ],
   "source": [
    "#Build formula assignment lists\n",
    "#Retrieve TIC for MS1 scans over the time range between 'timestart' and 'timestop' \n",
    "tic=parser.get_tic(ms_type='MS')[0]\n",
    "tic_df=pd.DataFrame({'time': tic.time,'scan': tic.scans})\n",
    "\n",
    " #Now, get an average mass spectrum and list the centroided m/z values of the spectrum. One of these should be the molecule of interest.\n",
    "AverageMS = parser.get_average_mass_spectrum_by_scanlist(tic.scans)\n",
    "mass_spectrum=AverageMS\n",
    "SearchMolecularFormulas(mass_spectrum, first_hit=False).run_worker_mass_spectrum()\n",
    "\n",
    "mass_spectrum.percentile_assigned(report_error=True)\n",
    "\n",
    "mass_spectrum_by_classes = HeteroatomsClassification(mass_spectrum, choose_molecular_formula=True)\n",
    "\n",
    "mass_spectrum_by_classes.plot_ms_assigned_unassigned()\n",
    "plt.show()\n",
    "mass_spectrum_by_classes.plot_mz_error()\n",
    "plt.show()\n",
    "\n"
   ]
  },
  {
   "cell_type": "code",
   "execution_count": 20,
   "metadata": {},
   "outputs": [
    {
     "name": "stdout",
     "output_type": "stream",
     "text": [
      "['Index' 'm/z' 'Calibrated m/z' 'Calculated m/z' 'Peak Height' 'Peak Area'\n",
      " 'Resolving Power' 'S/N' 'Ion Charge' 'm/z Error (ppm)' 'm/z Error Score'\n",
      " 'Isotopologue Similarity' 'Confidence Score' 'DBE' 'H/C' 'O/C'\n",
      " 'Heteroatom Class' 'Ion Type' 'Is Isotopologue' 'Mono Isotopic Index'\n",
      " 'Molecular Formula' 'C' 'H' 'O' 'N' '13C' 'Fe' '57Fe']\n",
      "            m/z   Peak Height   Molecular Formula  m/z Error (ppm)  \\\n",
      "94   353.078878  1.858608e+06   C14 H20 O5 N2 Fe1        -1.575071   \n",
      "110  369.094790  1.287773e+06   C11 H24 O8 N2 Fe1        -1.864560   \n",
      "114  373.177763  2.431767e+06   C16 H32 O4 N2 Fe1        -1.761852   \n",
      "117  377.136210  1.035188e+06   C14 H28 O6 N2 Fe1        -1.960333   \n",
      "120  381.110159  3.511124e+06   C16 H24 O5 N2 Fe1        -1.512015   \n",
      "..          ...           ...                 ...              ...   \n",
      "448  837.196224  2.649933e+06  C30 H44 O20 N4 Fe1        -1.049841   \n",
      "449  837.590730  1.130570e+06      C47 H88 O8 Fe1         0.712934   \n",
      "450  838.196845  1.417711e+06  C34 H43 O18 N3 Fe1         0.561370   \n",
      "451  845.523231  1.091065e+06   C48 H76 O5 N4 Fe1        -0.654003   \n",
      "452  859.538035  1.293656e+06      C48 H82 O9 Fe1        -0.072021   \n",
      "\n",
      "     Confidence Score  \n",
      "94           0.382521  \n",
      "110          0.319293  \n",
      "114          0.341617  \n",
      "117          0.298760  \n",
      "120          0.396273  \n",
      "..                ...  \n",
      "448          0.491245  \n",
      "449          0.547140  \n",
      "450          0.566654  \n",
      "451          0.555196  \n",
      "452          0.599436  \n",
      "\n",
      "[235 rows x 5 columns]\n"
     ]
    }
   ],
   "source": [
    "assignments=mass_spectrum.to_dataframe()\n",
    "assignments=assignments.sort_values(by=['m/z'])\n",
    "\n",
    "print(assignments.columns.values)\n",
    "#print(assignments)\n",
    "print(assignments[assignments['Fe']>0].filter(['m/z','Peak Height','Molecular Formula','m/z Error (ppm)','Confidence Score']))\n",
    "\n",
    "assignments.to_csv(file_location+file_name+'assignments.csv')\n"
   ]
  }
 ],
 "metadata": {
  "interpreter": {
   "hash": "bc269cc368797504c468de00430b7b4c63fbed36ddd0e76212390bef497bc0e4"
  },
  "kernelspec": {
   "display_name": "Python 3.8.10 64-bit ('venv': venv)",
   "name": "python3"
  },
  "language_info": {
   "codemirror_mode": {
    "name": "ipython",
    "version": 3
   },
   "file_extension": ".py",
   "mimetype": "text/x-python",
   "name": "python",
   "nbconvert_exporter": "python",
   "pygments_lexer": "ipython3",
   "version": "3.8.10"
  },
  "orig_nbformat": 4
 },
 "nbformat": 4,
 "nbformat_minor": 2
}
